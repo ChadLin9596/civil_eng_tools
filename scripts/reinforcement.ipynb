{
 "cells": [
  {
   "cell_type": "code",
   "execution_count": null,
   "metadata": {},
   "outputs": [],
   "source": [
    "import sys\n",
    "sys.path.append('..')"
   ]
  },
  {
   "cell_type": "code",
   "execution_count": null,
   "metadata": {},
   "outputs": [],
   "source": [
    "import pptk\n",
    "import numpy as np\n",
    "import utils"
   ]
  },
  {
   "cell_type": "code",
   "execution_count": null,
   "metadata": {},
   "outputs": [],
   "source": [
    "# create a sample\n",
    "min_value = 0\n",
    "max_value = 5\n",
    "n = 5\n",
    "\n",
    "x = np.random.randint(min_value, max_value, n)\n",
    "y = np.random.randint(min_value, max_value, n)\n",
    "z = np.zeros(n)"
   ]
  },
  {
   "cell_type": "code",
   "execution_count": null,
   "metadata": {},
   "outputs": [],
   "source": [
    "# prior peek\n",
    "data = np.vstack([x, y, z]).T\n",
    "v = pptk.viewer(data)\n",
    "v.set(point_size=0.1)"
   ]
  },
  {
   "cell_type": "markdown",
   "metadata": {},
   "source": [
    "intersections finder"
   ]
  },
  {
   "cell_type": "code",
   "execution_count": null,
   "metadata": {},
   "outputs": [],
   "source": [
    "# find all intersections between all points in data and data\n",
    "direction = np.r_[0, 1, 0]  # simply y axis\n",
    "Ps1, Ds1 = utils.intersections(data, data, direction, return_details=True)\n",
    "\n",
    "Ps_1 = []\n",
    "pairs = []\n",
    "for index, (P, D) in enumerate(zip(Ps1, Ds1)):\n",
    "    i = utils.find_min_index_in_1d_list(D, f=lambda x: x > 0)\n",
    "    j = utils.find_max_index_in_1d_list(D, f=lambda x: x < 0)\n",
    "\n",
    "    if i is not None:\n",
    "        Ps_1.append(P[i])\n",
    "        pairs.append((index, len(Ps_1)-1))\n",
    "        pairs.append((i, len(Ps_1)-1))\n",
    "    if j is not None:\n",
    "        Ps_1.append(P[j])\n",
    "        pairs.append((index, len(Ps_1)-1))\n",
    "        pairs.append((j, len(Ps_1)-1))\n",
    "        \n",
    "Ps_1 = np.vstack(Ps_1)\n",
    "\n",
    "I, J = zip(*pairs)\n",
    "line_1 = utils.expand_line_points(data[list(I)], Ps_1[list(J)], step_size=0.1)"
   ]
  },
  {
   "cell_type": "code",
   "execution_count": null,
   "metadata": {},
   "outputs": [],
   "source": [
    "direction = np.r_[1, 0, 0]  # simply x axis\n",
    "Ps2, Ds2 = utils.intersections(data, data, direction, return_details=True)\n",
    "\n",
    "Ps_2 = []\n",
    "pairs = []\n",
    "for index, (P, D) in enumerate(zip(Ps2, Ds2)):\n",
    "    i = utils.find_min_index_in_1d_list(D, f=lambda x: x > 0)\n",
    "    j = utils.find_max_index_in_1d_list(D, f=lambda x: x < 0)\n",
    "    \n",
    "    if i is not None:\n",
    "        Ps_2.append(P[i])\n",
    "        pairs.append((index, len(Ps_2)-1))\n",
    "        pairs.append((i, len(Ps_2)-1))\n",
    "    if j is not None:\n",
    "        Ps_2.append(P[j])\n",
    "        pairs.append((index, len(Ps_2)-1))\n",
    "        pairs.append((j, len(Ps_2)-1))\n",
    "        \n",
    "Ps_2 = np.vstack(Ps_2)\n",
    "\n",
    "I, J = zip(*pairs)\n",
    "line_2 = utils.expand_line_points(data[list(I)], Ps_2[list(J)], step_size=0.1)"
   ]
  },
  {
   "cell_type": "markdown",
   "metadata": {},
   "source": [
    "visualization"
   ]
  },
  {
   "cell_type": "code",
   "execution_count": null,
   "metadata": {
    "scrolled": true
   },
   "outputs": [],
   "source": [
    "data_color = np.r_[1, 0, 0, 1]\n",
    "data_color = np.repeat(data_color[None, :], len(data), axis=0)\n",
    "\n",
    "intersection_points = np.vstack([Ps_1, Ps_2])\n",
    "intersection_color = np.r_[0, 1, 0, 1]\n",
    "intersection_color = np.repeat(intersection_color[None, :], len(intersection_points), axis=0)\n",
    "\n",
    "line_points = np.vstack([line_1, line_2])\n",
    "line_color = np.r_[0.5, 0.5, 0.5, 0.5]\n",
    "line_color = np.repeat(line_color[None, :], len(line_points), axis=0)\n",
    "\n",
    "transparent_color = np.r_[0, 0, 0, 0]\n",
    "transparent_color = np.repeat(transparent_color[None, :], len(line_points) + len(intersection_points), axis=0)\n",
    "\n",
    "V = pptk.viewer(\n",
    "    np.vstack([intersection_points, line_points, data])\n",
    ")\n",
    "\n",
    "V.attributes(\n",
    "    np.vstack([transparent_color, data_color]),\n",
    "    np.vstack([intersection_color, line_color, data_color])\n",
    ")\n",
    "\n",
    "V.set(point_size=0.05, show_grid=False)"
   ]
  }
 ],
 "metadata": {
  "kernelspec": {
   "display_name": "Python 2",
   "language": "python",
   "name": "python2"
  },
  "language_info": {
   "codemirror_mode": {
    "name": "ipython",
    "version": 2
   },
   "file_extension": ".py",
   "mimetype": "text/x-python",
   "name": "python",
   "nbconvert_exporter": "python",
   "pygments_lexer": "ipython2",
   "version": "2.7.18"
  }
 },
 "nbformat": 4,
 "nbformat_minor": 2
}
